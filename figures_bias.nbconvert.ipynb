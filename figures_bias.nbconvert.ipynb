{
 "cells": [
  {
   "cell_type": "code",
   "execution_count": 1,
   "metadata": {
    "execution": {
     "iopub.execute_input": "2022-06-19T18:32:36.730001Z",
     "iopub.status.busy": "2022-06-19T18:32:36.728368Z",
     "iopub.status.idle": "2022-06-19T18:32:36.731448Z",
     "shell.execute_reply": "2022-06-19T18:32:36.730925Z"
    }
   },
   "outputs": [],
   "source": [
    "import sys\n",
    "from pathlib import Path\n",
    "\n",
    "p = str(Path.home() / \"miniconda3/envs/bias-pmi/lib/python3.9/site-packages\")\n",
    "sys.path.append(p)"
   ]
  },
  {
   "cell_type": "code",
   "execution_count": 2,
   "metadata": {
    "execution": {
     "iopub.execute_input": "2022-06-19T18:32:36.735625Z",
     "iopub.status.busy": "2022-06-19T18:32:36.734941Z",
     "iopub.status.idle": "2022-06-19T18:32:44.808959Z",
     "shell.execute_reply": "2022-06-19T18:32:44.808020Z"
    }
   },
   "outputs": [],
   "source": [
    "import pandas as pd\n",
    "import numpy as np\n",
    "import cv2 as cv\n",
    "import matplotlib.pyplot as plt\n",
    "\n",
    "from scripts.utils.figures import pearson_cor, scatter_color_plt, scatter_plt"
   ]
  },
  {
   "cell_type": "code",
   "execution_count": 3,
   "metadata": {
    "execution": {
     "iopub.execute_input": "2022-06-19T18:32:44.813351Z",
     "iopub.status.busy": "2022-06-19T18:32:44.812751Z",
     "iopub.status.idle": "2022-06-19T18:32:44.815427Z",
     "shell.execute_reply": "2022-06-19T18:32:44.814834Z"
    }
   },
   "outputs": [],
   "source": [
    "pd.set_option(\"display.max_columns\", 100)"
   ]
  },
  {
   "cell_type": "markdown",
   "metadata": {},
   "source": [
    "## Data\n",
    "\n",
    "Read final bias results"
   ]
  },
  {
   "cell_type": "code",
   "execution_count": 4,
   "metadata": {
    "execution": {
     "iopub.execute_input": "2022-06-19T18:32:44.824990Z",
     "iopub.status.busy": "2022-06-19T18:32:44.818756Z",
     "iopub.status.idle": "2022-06-19T18:32:44.947042Z",
     "shell.execute_reply": "2022-06-19T18:32:44.946323Z"
    }
   },
   "outputs": [],
   "source": [
    "df_final = pd.read_csv(\"results/figures_data.csv\")"
   ]
  },
  {
   "cell_type": "code",
   "execution_count": 5,
   "metadata": {
    "execution": {
     "iopub.execute_input": "2022-06-19T18:32:44.967408Z",
     "iopub.status.busy": "2022-06-19T18:32:44.960729Z",
     "iopub.status.idle": "2022-06-19T18:32:45.086083Z",
     "shell.execute_reply": "2022-06-19T18:32:45.086626Z"
    }
   },
   "outputs": [
    {
     "data": {
      "text/plain": [
       "experiment          corpus    bias  \n",
       "glasgow-gender      subs      gender    4668\n",
       "                    wiki2014  gender    4642\n",
       "names-gender        subs      gender      50\n",
       "                    wiki2014  gender      50\n",
       "occupations-gender  subs      gender      44\n",
       "                    wiki2014  gender      44\n",
       "dtype: int64"
      ]
     },
     "execution_count": 1,
     "metadata": {},
     "output_type": "execute_result"
    }
   ],
   "source": [
    "df_final[[\"experiment\",\"corpus\",\"bias\"]].value_counts().sort_index()"
   ]
  },
  {
   "cell_type": "markdown",
   "metadata": {},
   "source": [
    "## Correlations"
   ]
  },
  {
   "cell_type": "code",
   "execution_count": 6,
   "metadata": {
    "execution": {
     "iopub.execute_input": "2022-06-19T18:32:45.091684Z",
     "iopub.status.busy": "2022-06-19T18:32:45.090916Z",
     "iopub.status.idle": "2022-06-19T18:32:45.094100Z",
     "shell.execute_reply": "2022-06-19T18:32:45.093330Z"
    }
   },
   "outputs": [],
   "source": [
    "bias_and_se = [\n",
    "    (\"wefat_score_sgns\", None),\n",
    "    (\"wefat_score_sgns\", \"se_sgns\"),\n",
    "    (\"wefat_score_glovewc\", None),\n",
    "    (\"wefat_score_glovewc\", \"se_glovewc\"),\n",
    "    (\"dpmi\", None),\n",
    "    (\"dpmi\", \"lor_se\"),\n",
    "]"
   ]
  },
  {
   "cell_type": "code",
   "execution_count": 7,
   "metadata": {
    "execution": {
     "iopub.execute_input": "2022-06-19T18:32:45.098861Z",
     "iopub.status.busy": "2022-06-19T18:32:45.098122Z",
     "iopub.status.idle": "2022-06-19T18:32:45.101359Z",
     "shell.execute_reply": "2022-06-19T18:32:45.100620Z"
    }
   },
   "outputs": [],
   "source": [
    "corpus_dict = {\"subs\" : \"OpenSubtitles\", \"wiki2014\" : \"Wikipedia\"}\n",
    "metrics_dict = {\"dpmi\" : \"PMI\", \"wefat_score_glovewc\" : \"GloVe\", \n",
    "                \"wefat_score_sgns\": \"SGNS\"}"
   ]
  },
  {
   "cell_type": "code",
   "execution_count": 8,
   "metadata": {
    "execution": {
     "iopub.execute_input": "2022-06-19T18:32:45.109939Z",
     "iopub.status.busy": "2022-06-19T18:32:45.109199Z",
     "iopub.status.idle": "2022-06-19T18:32:45.259365Z",
     "shell.execute_reply": "2022-06-19T18:32:45.258765Z"
    }
   },
   "outputs": [],
   "source": [
    "res = []\n",
    "\n",
    "for metric, se in bias_and_se:\n",
    "    res_ = df_final.groupby([\"corpus\",\"experiment\"], as_index=False).apply(\n",
    "        lambda d: pearson_cor(d, \"score\", metric, weight_se_var=se))\n",
    "    res_[\"correlation\"] = \"Weighted $r$\" if se else \"$r$\"\n",
    "    res_[\"metric\"] = metric\n",
    "    res_ = res_.replace({\"corpus\": corpus_dict, \"metric\": metrics_dict})\n",
    "    res_[\"experiment\"] = res_[\"experiment\"].str.title()\n",
    "    res_.columns = res_.columns.str.title()\n",
    "    res += [res_.copy()]\n",
    "\n",
    "df_res = pd.concat(res)\n",
    "df_res.rename(columns={None: \"value\"}, inplace=True)\n",
    "df_res = df_res.set_index([\"Corpus\", \"Experiment\", \"Correlation\", \"Metric\"],).unstack()\n",
    "df_res.columns = df_res.columns.droplevel(0)\n",
    "df_res = df_res[[\"PMI\",\"GloVe\",\"SGNS\"]]"
   ]
  },
  {
   "cell_type": "code",
   "execution_count": 9,
   "metadata": {
    "execution": {
     "iopub.execute_input": "2022-06-19T18:32:45.266660Z",
     "iopub.status.busy": "2022-06-19T18:32:45.266011Z",
     "iopub.status.idle": "2022-06-19T18:32:45.292150Z",
     "shell.execute_reply": "2022-06-19T18:32:45.291457Z"
    }
   },
   "outputs": [
    {
     "data": {
      "text/html": [
       "<div>\n",
       "<style scoped>\n",
       "    .dataframe tbody tr th:only-of-type {\n",
       "        vertical-align: middle;\n",
       "    }\n",
       "\n",
       "    .dataframe tbody tr th {\n",
       "        vertical-align: top;\n",
       "    }\n",
       "\n",
       "    .dataframe thead th {\n",
       "        text-align: right;\n",
       "    }\n",
       "</style>\n",
       "<table border=\"1\" class=\"dataframe\">\n",
       "  <thead>\n",
       "    <tr style=\"text-align: right;\">\n",
       "      <th></th>\n",
       "      <th></th>\n",
       "      <th>Metric</th>\n",
       "      <th>PMI</th>\n",
       "      <th>GloVe</th>\n",
       "      <th>SGNS</th>\n",
       "    </tr>\n",
       "    <tr>\n",
       "      <th>Corpus</th>\n",
       "      <th>Experiment</th>\n",
       "      <th>Correlation</th>\n",
       "      <th></th>\n",
       "      <th></th>\n",
       "      <th></th>\n",
       "    </tr>\n",
       "  </thead>\n",
       "  <tbody>\n",
       "    <tr>\n",
       "      <th rowspan=\"6\" valign=\"top\">OpenSubtitles</th>\n",
       "      <th rowspan=\"2\" valign=\"top\">Glasgow-Gender</th>\n",
       "      <th>$r$</th>\n",
       "      <td>0.578</td>\n",
       "      <td>0.489</td>\n",
       "      <td>0.550</td>\n",
       "    </tr>\n",
       "    <tr>\n",
       "      <th>Weighted $r$</th>\n",
       "      <td>0.577</td>\n",
       "      <td>0.686</td>\n",
       "      <td>0.723</td>\n",
       "    </tr>\n",
       "    <tr>\n",
       "      <th rowspan=\"2\" valign=\"top\">Names-Gender</th>\n",
       "      <th>$r$</th>\n",
       "      <td>0.796</td>\n",
       "      <td>0.738</td>\n",
       "      <td>0.810</td>\n",
       "    </tr>\n",
       "    <tr>\n",
       "      <th>Weighted $r$</th>\n",
       "      <td>0.840</td>\n",
       "      <td>0.819</td>\n",
       "      <td>0.769</td>\n",
       "    </tr>\n",
       "    <tr>\n",
       "      <th rowspan=\"2\" valign=\"top\">Occupations-Gender</th>\n",
       "      <th>$r$</th>\n",
       "      <td>0.655</td>\n",
       "      <td>0.672</td>\n",
       "      <td>0.787</td>\n",
       "    </tr>\n",
       "    <tr>\n",
       "      <th>Weighted $r$</th>\n",
       "      <td>0.813</td>\n",
       "      <td>0.832</td>\n",
       "      <td>0.886</td>\n",
       "    </tr>\n",
       "    <tr>\n",
       "      <th rowspan=\"6\" valign=\"top\">Wikipedia</th>\n",
       "      <th rowspan=\"2\" valign=\"top\">Glasgow-Gender</th>\n",
       "      <th>$r$</th>\n",
       "      <td>0.499</td>\n",
       "      <td>0.442</td>\n",
       "      <td>0.504</td>\n",
       "    </tr>\n",
       "    <tr>\n",
       "      <th>Weighted $r$</th>\n",
       "      <td>0.440</td>\n",
       "      <td>0.590</td>\n",
       "      <td>0.663</td>\n",
       "    </tr>\n",
       "    <tr>\n",
       "      <th rowspan=\"2\" valign=\"top\">Names-Gender</th>\n",
       "      <th>$r$</th>\n",
       "      <td>0.783</td>\n",
       "      <td>0.744</td>\n",
       "      <td>0.765</td>\n",
       "    </tr>\n",
       "    <tr>\n",
       "      <th>Weighted $r$</th>\n",
       "      <td>0.755</td>\n",
       "      <td>0.786</td>\n",
       "      <td>0.762</td>\n",
       "    </tr>\n",
       "    <tr>\n",
       "      <th rowspan=\"2\" valign=\"top\">Occupations-Gender</th>\n",
       "      <th>$r$</th>\n",
       "      <td>0.687</td>\n",
       "      <td>0.703</td>\n",
       "      <td>0.700</td>\n",
       "    </tr>\n",
       "    <tr>\n",
       "      <th>Weighted $r$</th>\n",
       "      <td>0.788</td>\n",
       "      <td>0.672</td>\n",
       "      <td>0.783</td>\n",
       "    </tr>\n",
       "  </tbody>\n",
       "</table>\n",
       "</div>"
      ],
      "text/plain": [
       "Metric                                           PMI  GloVe   SGNS\n",
       "Corpus        Experiment         Correlation                      \n",
       "OpenSubtitles Glasgow-Gender     $r$           0.578  0.489  0.550\n",
       "                                 Weighted $r$  0.577  0.686  0.723\n",
       "              Names-Gender       $r$           0.796  0.738  0.810\n",
       "                                 Weighted $r$  0.840  0.819  0.769\n",
       "              Occupations-Gender $r$           0.655  0.672  0.787\n",
       "                                 Weighted $r$  0.813  0.832  0.886\n",
       "Wikipedia     Glasgow-Gender     $r$           0.499  0.442  0.504\n",
       "                                 Weighted $r$  0.440  0.590  0.663\n",
       "              Names-Gender       $r$           0.783  0.744  0.765\n",
       "                                 Weighted $r$  0.755  0.786  0.762\n",
       "              Occupations-Gender $r$           0.687  0.703  0.700\n",
       "                                 Weighted $r$  0.788  0.672  0.783"
      ]
     },
     "execution_count": 1,
     "metadata": {},
     "output_type": "execute_result"
    }
   ],
   "source": [
    "df_res.round(3)"
   ]
  },
  {
   "cell_type": "code",
   "execution_count": 10,
   "metadata": {
    "execution": {
     "iopub.execute_input": "2022-06-19T18:32:45.300048Z",
     "iopub.status.busy": "2022-06-19T18:32:45.299312Z",
     "iopub.status.idle": "2022-06-19T18:32:45.520034Z",
     "shell.execute_reply": "2022-06-19T18:32:45.519322Z"
    }
   },
   "outputs": [
    {
     "name": "stdout",
     "output_type": "stream",
     "text": [
      "\\begin{tabular}{lllrrr}\n",
      "\\toprule\n",
      " &  & Metric & PMI & GloVe & SGNS \\\\\n",
      "Corpus & Experiment & Correlation &  &  &  \\\\\n",
      "\\midrule\n",
      "\\multirow[c]{6}{*}{OpenSubtitles} & \\multirow[c]{2}{*}{Glasgow-Gender} & $r$ & 0.58 & 0.49 & 0.55 \\\\\n",
      " &  & Weighted $r$ & 0.58 & 0.69 & 0.72 \\\\\n",
      "\\cline{2-6}\n",
      " & \\multirow[c]{2}{*}{Names-Gender} & $r$ & 0.80 & 0.74 & 0.81 \\\\\n",
      " &  & Weighted $r$ & 0.84 & 0.82 & 0.77 \\\\\n",
      "\\cline{2-6}\n",
      " & \\multirow[c]{2}{*}{Occupations-Gender} & $r$ & 0.66 & 0.67 & 0.79 \\\\\n",
      " &  & Weighted $r$ & 0.81 & 0.83 & 0.89 \\\\\n",
      "\\cline{1-6} \\cline{2-6}\n",
      "\\multirow[c]{6}{*}{Wikipedia} & \\multirow[c]{2}{*}{Glasgow-Gender} & $r$ & 0.50 & 0.44 & 0.50 \\\\\n",
      " &  & Weighted $r$ & 0.44 & 0.59 & 0.66 \\\\\n",
      "\\cline{2-6}\n",
      " & \\multirow[c]{2}{*}{Names-Gender} & $r$ & 0.78 & 0.74 & 0.77 \\\\\n",
      " &  & Weighted $r$ & 0.75 & 0.79 & 0.76 \\\\\n",
      "\\cline{2-6}\n",
      " & \\multirow[c]{2}{*}{Occupations-Gender} & $r$ & 0.69 & 0.70 & 0.70 \\\\\n",
      " &  & Weighted $r$ & 0.79 & 0.67 & 0.78 \\\\\n",
      "\\cline{1-6} \\cline{2-6}\n",
      "\\bottomrule\n",
      "\\end{tabular}\n",
      "\n"
     ]
    }
   ],
   "source": [
    "df_ = df_res.query(\n",
    "    \"Experiment in ['Glasgow-Gender','Occupations-Gender','Names-Gender']\")\n",
    "print(\n",
    "    df_.style.format(precision=2).to_latex(\n",
    "        clines=\"skip-last;data\", multicol_align=\"|c|\", hrules=True\n",
    "        # column_format=\"c\", multirow_align=\"naive\", multicol_align=\"c\"\n",
    "))"
   ]
  },
  {
   "cell_type": "markdown",
   "metadata": {},
   "source": [
    "## Plots"
   ]
  },
  {
   "cell_type": "code",
   "execution_count": 11,
   "metadata": {
    "execution": {
     "iopub.execute_input": "2022-06-19T18:32:45.526134Z",
     "iopub.status.busy": "2022-06-19T18:32:45.525202Z",
     "iopub.status.idle": "2022-06-19T18:32:45.528536Z",
     "shell.execute_reply": "2022-06-19T18:32:45.527739Z"
    }
   },
   "outputs": [],
   "source": [
    "metrics_info = {\n",
    "    \"wefat_score_sgns\": {\n",
    "        \"label\": \"SGNS\",\n",
    "        \"pvalue_col\": \"sgns_pvaluecor\",\n",
    "        \"se_and_ci_cols\": [[None, None], [\"se_sgns\", [\"lower_sgns\",\"upper_sgns\"]]],\n",
    "        # \"se_and_ci_cols\": [[None, None], ],\n",
    "        },\n",
    "    \"wefat_score_glovewc\": {\n",
    "        \"label\": \"GloVe\",\n",
    "        \"pvalue_col\": \"glovewc_pvaluecor\",\n",
    "        \"se_and_ci_cols\": [[None, None], [\"se_glovewc\", [\"lower_glovewc\",\"upper_glovewc\"]]],\n",
    "        # \"se_and_ci_cols\": [[None, None], ],\n",
    "        },\n",
    "    \"dpmi\": {\n",
    "        \"label\": \"PMI\",\n",
    "        \"pvalue_col\": \"lor_pvaluecor\",\n",
    "        \"se_and_ci_cols\": [[None, None], [\"lor_se\", [\"dpmi_lower\",\"dpmi_upper\"]]],\n",
    "        },\n",
    "    }"
   ]
  },
  {
   "cell_type": "code",
   "execution_count": 12,
   "metadata": {
    "execution": {
     "iopub.execute_input": "2022-06-19T18:32:45.533322Z",
     "iopub.status.busy": "2022-06-19T18:32:45.532338Z",
     "iopub.status.idle": "2022-06-19T18:32:45.534573Z",
     "shell.execute_reply": "2022-06-19T18:32:45.535167Z"
    }
   },
   "outputs": [],
   "source": [
    "corpora_info = {\n",
    "    \"wiki2014\": {\"label\": \"Wikipedia\"},\n",
    "    \"subs\": {\"label\": \"OpenSubtitles\"},\n",
    "}"
   ]
  },
  {
   "cell_type": "code",
   "execution_count": 13,
   "metadata": {
    "execution": {
     "iopub.execute_input": "2022-06-19T18:32:45.540696Z",
     "iopub.status.busy": "2022-06-19T18:32:45.539968Z",
     "iopub.status.idle": "2022-06-19T18:32:45.542688Z",
     "shell.execute_reply": "2022-06-19T18:32:45.542167Z"
    }
   },
   "outputs": [],
   "source": [
    "experiments_info = {\n",
    "    \"occupations-gender\": {\n",
    "        \"col_label\": r\"% of workers in occupation who are women\",\n",
    "        \"bias_label\": \"Female bias\",\n",
    "        \"point_size\": 35,\n",
    "        \"edgecolor\": \"black\",\n",
    "        \"error_bars\": True,\n",
    "    },\n",
    "    \"names-gender\": {\n",
    "        \"col_label\": r\"% of people with name who are women\",\n",
    "        \"bias_label\": \"Female bias\",\n",
    "        \"point_size\": 35,\n",
    "        \"edgecolor\": \"black\",\n",
    "        \"error_bars\": True,\n",
    "    },\n",
    "    \"glasgow-gender\": {\n",
    "        \"bias_label\": \"Female bias\",\n",
    "        \"col_label\": r\"Human judgement of gender association\",\n",
    "        \"point_size\": 2,\n",
    "        \"edgecolor\": None,\n",
    "        \"error_bars\": False,\n",
    "    },\n",
    "}"
   ]
  },
  {
   "cell_type": "code",
   "execution_count": 14,
   "metadata": {
    "execution": {
     "iopub.execute_input": "2022-06-19T18:32:45.548997Z",
     "iopub.status.busy": "2022-06-19T18:32:45.548337Z",
     "iopub.status.idle": "2022-06-19T18:32:45.552430Z",
     "shell.execute_reply": "2022-06-19T18:32:45.551841Z"
    }
   },
   "outputs": [],
   "source": [
    "df_settings = df_final[[\"corpus\", \"experiment\"]].drop_duplicates()"
   ]
  },
  {
   "cell_type": "code",
   "execution_count": 15,
   "metadata": {
    "execution": {
     "iopub.execute_input": "2022-06-19T18:32:45.556544Z",
     "iopub.status.busy": "2022-06-19T18:32:45.555925Z",
     "iopub.status.idle": "2022-06-19T18:32:45.559648Z",
     "shell.execute_reply": "2022-06-19T18:32:45.558952Z"
    }
   },
   "outputs": [],
   "source": [
    "plot_files = Path(\"results/plots\").glob(\"*.png\")\n",
    "plot_files = sorted(list(plot_files))"
   ]
  },
  {
   "cell_type": "code",
   "execution_count": 16,
   "metadata": {
    "execution": {
     "iopub.execute_input": "2022-06-19T18:32:45.564398Z",
     "iopub.status.busy": "2022-06-19T18:32:45.563657Z",
     "iopub.status.idle": "2022-06-19T18:32:45.566727Z",
     "shell.execute_reply": "2022-06-19T18:32:45.566021Z"
    }
   },
   "outputs": [],
   "source": [
    "grid_info = {\n",
    "    \"experiments\": [\"names-gender\", \"occupations-gender\", \"glasgow-gender\"],\n",
    "    \"metrics\": [\"PMI\",\"GloVe\",\"SGNS\"],\n",
    "    \"metric_types\": [\"uw\", \"w\"],\n",
    "    \"corpora\": [\"wiki2014\"], #[\"subs\",\"wiki2014\"],\n",
    "}"
   ]
  },
  {
   "cell_type": "code",
   "execution_count": 17,
   "metadata": {
    "execution": {
     "iopub.execute_input": "2022-06-19T18:32:45.571368Z",
     "iopub.status.busy": "2022-06-19T18:32:45.570626Z",
     "iopub.status.idle": "2022-06-19T18:32:45.575180Z",
     "shell.execute_reply": "2022-06-19T18:32:45.574468Z"
    }
   },
   "outputs": [],
   "source": [
    "def concat_tile(lista_2d: list):\n",
    "    return cv.vconcat([cv.hconcat(list_h) for list_h in lista_2d])"
   ]
  },
  {
   "cell_type": "markdown",
   "metadata": {},
   "source": [
    "### Experiments"
   ]
  },
  {
   "cell_type": "code",
   "execution_count": 18,
   "metadata": {
    "execution": {
     "iopub.execute_input": "2022-06-19T18:32:45.590301Z",
     "iopub.status.busy": "2022-06-19T18:32:45.583394Z",
     "iopub.status.idle": "2022-06-19T18:32:55.783382Z",
     "shell.execute_reply": "2022-06-19T18:32:55.781999Z"
    }
   },
   "outputs": [],
   "source": [
    "# save PNGs\n",
    "dpi = 300\n",
    "width = 1500\n",
    "height = 1150\n",
    "plt.ioff()\n",
    "\n",
    "for _, (corpus, experiment) in df_settings.iterrows():\n",
    "    for metric, metric_info in metrics_info.items():\n",
    "        for se_col, ci_cols in metric_info[\"se_and_ci_cols\"]:\n",
    "            \n",
    "            experiment_info = experiments_info[experiment]\n",
    "            corpus_info = corpora_info[corpus]\n",
    "            metric_type = \"w\" if se_col else \"uw\"\n",
    "            xlabel = experiment_info['col_label']\n",
    "            ylabel = f\"{experiment_info['bias_label']} ({metric_info['label']})\"\n",
    "            corpus_name = corpus_info[\"label\"]\n",
    "            error_bars = experiment_info[\"error_bars\"]\n",
    "            point_size = experiment_info[\"point_size\"]\n",
    "            edgecolor = experiment_info[\"edgecolor\"]\n",
    "            ci_cols = ci_cols if error_bars else None\n",
    "            outfile = f\"results/plots/{corpus}_{experiment}_{metric_info['label']}_{metric_type}.png\"\n",
    "\n",
    "            df_ = df_final.query(\"experiment == @experiment & corpus == @corpus\")\n",
    "\n",
    "            fig_, ax_ = scatter_color_plt(\n",
    "                \"score\", metric, df_, weight_se_var=se_col, error_cols=ci_cols,\n",
    "                xlabel=xlabel, ylabel=ylabel, title=None, point_size=point_size,\n",
    "                edgecolor=edgecolor, print_pearson=False\n",
    "            )\n",
    "            fig_.set_size_inches(width/dpi, height/dpi)\n",
    "            plt.savefig(outfile, dpi=dpi, bbox_inches='tight')\n",
    "            plt.close(fig_)\n"
   ]
  },
  {
   "cell_type": "code",
   "execution_count": 19,
   "metadata": {
    "execution": {
     "iopub.execute_input": "2022-06-19T18:32:55.788745Z",
     "iopub.status.busy": "2022-06-19T18:32:55.788120Z",
     "iopub.status.idle": "2022-06-19T18:32:55.792489Z",
     "shell.execute_reply": "2022-06-19T18:32:55.791590Z"
    }
   },
   "outputs": [],
   "source": [
    "plot_files_wefat = [f for f in plot_files if not f.stem.startswith(\"pvalues\")]\n",
    "plot_files_dict = {}\n",
    "for f in plot_files_wefat:\n",
    "    f_name = f.stem\n",
    "    plot_files_dict[f_name] = str(f)"
   ]
  },
  {
   "cell_type": "code",
   "execution_count": 20,
   "metadata": {
    "execution": {
     "iopub.execute_input": "2022-06-19T18:32:55.798620Z",
     "iopub.status.busy": "2022-06-19T18:32:55.797982Z",
     "iopub.status.idle": "2022-06-19T18:32:56.713421Z",
     "shell.execute_reply": "2022-06-19T18:32:56.712414Z"
    }
   },
   "outputs": [],
   "source": [
    "img_lists = {}\n",
    "img_grids = {}\n",
    "for experiment in grid_info[\"experiments\"]:\n",
    "    img_lists[experiment] = []\n",
    "    for corpus in grid_info[\"corpora\"]:\n",
    "        for metric_type in grid_info[\"metric_types\"]:\n",
    "            img_row = []\n",
    "            for metric in grid_info[\"metrics\"]:\n",
    "                k = f\"{corpus}_{experiment}_{metric}_{metric_type}\"\n",
    "                f = plot_files_dict[k]\n",
    "                img_ = cv.imread(f)\n",
    "                img_ = cv.resize(img_, (1401, 1068))\n",
    "                img_row.append(img_)\n",
    "            img_lists[experiment].append(img_row)\n",
    "    img_grids[experiment] = concat_tile(img_lists[experiment])\n",
    "    cv.imwrite(f\"results/plots/grid_{experiment}.png\", img_grids[experiment])\n"
   ]
  },
  {
   "cell_type": "markdown",
   "metadata": {},
   "source": [
    "### Permutation p-values"
   ]
  },
  {
   "cell_type": "code",
   "execution_count": 21,
   "metadata": {
    "execution": {
     "iopub.execute_input": "2022-06-19T18:32:56.734867Z",
     "iopub.status.busy": "2022-06-19T18:32:56.734171Z",
     "iopub.status.idle": "2022-06-19T18:33:01.701449Z",
     "shell.execute_reply": "2022-06-19T18:33:01.700504Z"
    }
   },
   "outputs": [],
   "source": [
    "# save PNGs\n",
    "dpi = 300\n",
    "width = 2100\n",
    "height = 1050\n",
    "plt.ioff()\n",
    "\n",
    "for _, (corpus, experiment) in df_settings.iterrows():\n",
    "    for metric, metric_info in metrics_info.items():\n",
    "\n",
    "        experiment_info = experiments_info[experiment]\n",
    "        corpus_info = corpora_info[corpus]\n",
    "        corpus_name = corpus_info[\"label\"]\n",
    "        point_size = experiment_info[\"point_size\"]\n",
    "        edgecolor = experiment_info[\"edgecolor\"]\n",
    "        pvalue_col = metric_info[\"pvalue_col\"]\n",
    "        xlabel = f\"{experiment_info['bias_label']} ({metric_info['label']})\"\n",
    "        ylabel = f\"{experiment_info['bias_label']} p-value ({metric_info['label']})\"\n",
    "        outfile = f\"results/plots/pvalues_{corpus}_{experiment}_{metric_info['label']}.png\"\n",
    "        \n",
    "        df_ = df_final.query(\"experiment == @experiment & corpus == @corpus\")\n",
    "\n",
    "        fig_, ax_ = scatter_plt(\n",
    "            metric, pvalue_col, df_, xlabel=xlabel, ylabel=ylabel, \n",
    "            title=None, point_size=point_size, edgecolor=edgecolor)\n",
    "        fig_.set_size_inches(width/dpi, height/dpi)\n",
    "        plt.savefig(outfile, dpi=dpi, bbox_inches='tight')\n",
    "        plt.close(fig_)"
   ]
  },
  {
   "cell_type": "code",
   "execution_count": 22,
   "metadata": {
    "execution": {
     "iopub.execute_input": "2022-06-19T18:33:01.706635Z",
     "iopub.status.busy": "2022-06-19T18:33:01.705999Z",
     "iopub.status.idle": "2022-06-19T18:33:01.709103Z",
     "shell.execute_reply": "2022-06-19T18:33:01.708563Z"
    }
   },
   "outputs": [],
   "source": [
    "plot_files_pvalues = [f for f in plot_files if f.stem.startswith(\"pvalues\")]\n",
    "plot_files_dict = {}\n",
    "for f in plot_files_pvalues:\n",
    "    f_name = f.stem\n",
    "    plot_files_dict[f_name] = str(f)"
   ]
  },
  {
   "cell_type": "code",
   "execution_count": 23,
   "metadata": {
    "execution": {
     "iopub.execute_input": "2022-06-19T18:33:01.714476Z",
     "iopub.status.busy": "2022-06-19T18:33:01.713816Z",
     "iopub.status.idle": "2022-06-19T18:33:02.096805Z",
     "shell.execute_reply": "2022-06-19T18:33:02.096157Z"
    }
   },
   "outputs": [],
   "source": [
    "img_list = []\n",
    "for experiment in grid_info[\"experiments\"]:\n",
    "    for corpus in grid_info[\"corpora\"]:\n",
    "        img_row = []\n",
    "        for metric in grid_info[\"metrics\"]:\n",
    "            k = f\"pvalues_{corpus}_{experiment}_{metric}\"\n",
    "            f = plot_files_dict[k]\n",
    "            img_ = cv.imread(f)\n",
    "            img_ = cv.resize(img_, (width, height))\n",
    "            img_row.append(img_)\n",
    "        img_list.append(img_row)\n",
    "\n",
    "img_grid = concat_tile(img_list)"
   ]
  },
  {
   "cell_type": "code",
   "execution_count": 24,
   "metadata": {
    "execution": {
     "iopub.execute_input": "2022-06-19T18:33:02.100833Z",
     "iopub.status.busy": "2022-06-19T18:33:02.100240Z",
     "iopub.status.idle": "2022-06-19T18:33:02.289502Z",
     "shell.execute_reply": "2022-06-19T18:33:02.288962Z"
    }
   },
   "outputs": [
    {
     "data": {
      "text/plain": [
       "True"
      ]
     },
     "execution_count": 1,
     "metadata": {},
     "output_type": "execute_result"
    }
   ],
   "source": [
    "cv.imwrite(f\"results/plots/grid_pvalues.png\", img_grid)"
   ]
  },
  {
   "cell_type": "code",
   "execution_count": 25,
   "metadata": {
    "execution": {
     "iopub.execute_input": "2022-06-19T18:33:02.294305Z",
     "iopub.status.busy": "2022-06-19T18:33:02.293650Z",
     "iopub.status.idle": "2022-06-19T18:33:02.396679Z",
     "shell.execute_reply": "2022-06-19T18:33:02.396060Z"
    }
   },
   "outputs": [
    {
     "data": {
      "text/plain": [
       "True"
      ]
     },
     "execution_count": 1,
     "metadata": {},
     "output_type": "execute_result"
    }
   ],
   "source": [
    "# example pvalues figure\n",
    "file_pmi = plot_files_dict[\"pvalues_wiki2014_names-gender_PMI\"]\n",
    "file_we = plot_files_dict[\"pvalues_wiki2014_names-gender_SGNS\"]\n",
    "img_pmi = cv.imread(file_pmi)\n",
    "img_we = cv.imread(file_we)\n",
    "img_pmi = cv.resize(img_pmi, (width, height))\n",
    "img_we =  cv.resize(img_we, (width, height))\n",
    "img_grid = cv.vconcat([img_we, img_pmi])\n",
    "\n",
    "cv.imwrite(f\"results/plots/grid_pvalues_wiki2014_names-gender.png\", img_grid)"
   ]
  },
  {
   "cell_type": "code",
   "execution_count": 26,
   "metadata": {
    "execution": {
     "iopub.execute_input": "2022-06-19T18:33:02.405313Z",
     "iopub.status.busy": "2022-06-19T18:33:02.404607Z",
     "iopub.status.idle": "2022-06-19T18:33:02.408092Z",
     "shell.execute_reply": "2022-06-19T18:33:02.408711Z"
    }
   },
   "outputs": [
    {
     "data": {
      "text/plain": [
       "1"
      ]
     },
     "execution_count": 1,
     "metadata": {},
     "output_type": "execute_result"
    }
   ],
   "source": [
    "pvalues_sgns = df_final.query(\n",
    "    \"experiment == 'names-gender' & corpus == 'wiki2014'\")[\"sgns_pvaluecor\"]\n",
    "sum(pvalues_sgns < .1)"
   ]
  },
  {
   "cell_type": "markdown",
   "metadata": {},
   "source": [
    "## Save results summary"
   ]
  },
  {
   "cell_type": "code",
   "execution_count": 27,
   "metadata": {
    "execution": {
     "iopub.execute_input": "2022-06-19T18:33:02.417038Z",
     "iopub.status.busy": "2022-06-19T18:33:02.416337Z",
     "iopub.status.idle": "2022-06-19T18:33:02.684911Z",
     "shell.execute_reply": "2022-06-19T18:33:02.684272Z"
    }
   },
   "outputs": [],
   "source": [
    "cols_to_save = [\n",
    "    \"word\", \"corpus\", \"experiment\", \"bias\", \"score\",\n",
    "    \"dpmi\", \"lor_se\", \"dpmi_lower\", \"dpmi_upper\", \"lor_pvalue\", \"lor_pvaluecor\",\n",
    "    \"wefat_score_sgns\", \"se_sgns\", \"lower_sgns\", \"upper_sgns\", \"sgns_pvalue\", \"sgns_pvaluecor\",\n",
    "    \"wefat_score_glovewc\", \"se_glovewc\", \"lower_glovewc\", \"upper_glovewc\", \"glovewc_pvalue\", \"glovewc_pvaluecor\",\n",
    "]\n",
    "df_to_save = (\n",
    "    df_final[cols_to_save]\n",
    "    .rename(\n",
    "        columns={\"score\": \"external_score\", \"dpmi\": \"bias_pmi\",\n",
    "                 \"wefat_score_sgns\": \"bias_sgns\", \"wefat_score_glovewc\": \"bias_glovewc\"})\n",
    "    .sort_values([\"corpus\", \"experiment\", \"word\", ])\n",
    "    .reset_index(drop=True)\n",
    ")\n",
    "df_to_save.to_csv(\"results/experiments_results.csv\", index=False)"
   ]
  },
  {
   "cell_type": "code",
   "execution_count": null,
   "metadata": {},
   "outputs": [],
   "source": []
  }
 ],
 "metadata": {
  "file_extension": ".py",
  "interpreter": {
   "hash": "0edf4bb407f1ad9a1fca1a71d8507d7b22308309a176b50ebe6e3623242e1a9e"
  },
  "kernelspec": {
   "display_name": "Python 3.9.12 ('bias-pmi')",
   "language": "python",
   "name": "python3"
  },
  "language_info": {
   "codemirror_mode": {
    "name": "ipython",
    "version": 3
   },
   "file_extension": ".py",
   "mimetype": "text/x-python",
   "name": "python",
   "nbconvert_exporter": "python",
   "pygments_lexer": "ipython3",
   "version": "3.9.12"
  },
  "mimetype": "text/x-python",
  "name": "python",
  "npconvert_exporter": "python",
  "pygments_lexer": "ipython3",
  "version": 3
 },
 "nbformat": 4,
 "nbformat_minor": 2
}
