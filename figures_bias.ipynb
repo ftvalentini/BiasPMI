{
 "cells": [
  {
   "cell_type": "code",
   "execution_count": null,
   "metadata": {},
   "outputs": [],
   "source": [
    "import sys\n",
    "from pathlib import Path\n",
    "\n",
    "p = str(Path.home() / \"miniconda3/envs/bias-pmi/lib/python3.9/site-packages\")\n",
    "sys.path.append(p)"
   ]
  },
  {
   "cell_type": "code",
   "execution_count": null,
   "metadata": {},
   "outputs": [],
   "source": [
    "import pandas as pd\n",
    "import numpy as np\n",
    "import cv2 as cv\n",
    "import matplotlib.pyplot as plt\n",
    "\n",
    "from scripts.utils.figures import pearson_cor, scatter_color_plt, scatter_plt"
   ]
  },
  {
   "cell_type": "code",
   "execution_count": null,
   "metadata": {},
   "outputs": [],
   "source": [
    "pd.set_option(\"display.max_columns\", 100)"
   ]
  },
  {
   "cell_type": "markdown",
   "metadata": {},
   "source": [
    "## Data\n",
    "\n",
    "Read final bias results"
   ]
  },
  {
   "cell_type": "code",
   "execution_count": null,
   "metadata": {},
   "outputs": [],
   "source": [
    "df_final = pd.read_csv(\"results/figures_data.csv\")"
   ]
  },
  {
   "cell_type": "code",
   "execution_count": null,
   "metadata": {},
   "outputs": [],
   "source": [
    "df_final[[\"experiment\",\"corpus\",\"bias\"]].value_counts().sort_index()"
   ]
  },
  {
   "cell_type": "markdown",
   "metadata": {},
   "source": [
    "## Correlations"
   ]
  },
  {
   "cell_type": "code",
   "execution_count": null,
   "metadata": {},
   "outputs": [],
   "source": [
    "bias_and_se = [\n",
    "    (\"wefat_score_sgns\", None),\n",
    "    (\"wefat_score_sgns\", \"se_sgns\"),\n",
    "    (\"wefat_score_glovewc\", None),\n",
    "    (\"wefat_score_glovewc\", \"se_glovewc\"),\n",
    "    (\"dpmi\", None),\n",
    "    (\"dpmi\", \"lor_se\"),\n",
    "]"
   ]
  },
  {
   "cell_type": "code",
   "execution_count": null,
   "metadata": {},
   "outputs": [],
   "source": [
    "corpus_dict = {\"subs\" : \"OpenSubtitles\", \"wiki2014\" : \"Wikipedia\"}\n",
    "metrics_dict = {\"dpmi\" : \"PMI\", \"wefat_score_glovewc\" : \"GloVe\", \n",
    "                \"wefat_score_sgns\": \"SGNS\"}"
   ]
  },
  {
   "cell_type": "code",
   "execution_count": null,
   "metadata": {},
   "outputs": [],
   "source": [
    "res = []\n",
    "\n",
    "for metric, se in bias_and_se:\n",
    "    res_ = df_final.groupby([\"corpus\",\"experiment\"], as_index=False).apply(\n",
    "        lambda d: pearson_cor(d, \"score\", metric, weight_se_var=se))\n",
    "    res_[\"correlation\"] = \"Weighted $r$\" if se else \"$r$\"\n",
    "    res_[\"metric\"] = metric\n",
    "    res_ = res_.replace({\"corpus\": corpus_dict, \"metric\": metrics_dict})\n",
    "    res_[\"experiment\"] = res_[\"experiment\"].str.title()\n",
    "    res_.columns = res_.columns.str.title()\n",
    "    res += [res_.copy()]\n",
    "\n",
    "df_res = pd.concat(res)\n",
    "df_res.rename(columns={None: \"value\"}, inplace=True)\n",
    "df_res = df_res.set_index([\"Corpus\", \"Experiment\", \"Correlation\", \"Metric\"],).unstack()\n",
    "df_res.columns = df_res.columns.droplevel(0)\n",
    "df_res = df_res[[\"PMI\",\"GloVe\",\"SGNS\"]]"
   ]
  },
  {
   "cell_type": "code",
   "execution_count": null,
   "metadata": {},
   "outputs": [],
   "source": [
    "df_res.round(3)"
   ]
  },
  {
   "cell_type": "code",
   "execution_count": null,
   "metadata": {},
   "outputs": [],
   "source": [
    "df_ = df_res.query(\n",
    "    \"Experiment in ['Glasgow-Gender','Occupations-Gender','Names-Gender']\")\n",
    "print(\n",
    "    df_.style.format(precision=2).to_latex(\n",
    "        clines=\"skip-last;data\", multicol_align=\"|c|\", hrules=True\n",
    "        # column_format=\"c\", multirow_align=\"naive\", multicol_align=\"c\"\n",
    "))"
   ]
  },
  {
   "cell_type": "markdown",
   "metadata": {},
   "source": [
    "## Plots"
   ]
  },
  {
   "cell_type": "code",
   "execution_count": null,
   "metadata": {},
   "outputs": [],
   "source": [
    "metrics_info = {\n",
    "    \"wefat_score_sgns\": {\n",
    "        \"label\": \"SGNS\",\n",
    "        \"pvalue_col\": \"sgns_pvaluecor\",\n",
    "        \"se_and_ci_cols\": [[None, None], [\"se_sgns\", [\"lower_sgns\",\"upper_sgns\"]]],\n",
    "        # \"se_and_ci_cols\": [[None, None], ],\n",
    "        },\n",
    "    \"wefat_score_glovewc\": {\n",
    "        \"label\": \"GloVe\",\n",
    "        \"pvalue_col\": \"glovewc_pvaluecor\",\n",
    "        \"se_and_ci_cols\": [[None, None], [\"se_glovewc\", [\"lower_glovewc\",\"upper_glovewc\"]]],\n",
    "        # \"se_and_ci_cols\": [[None, None], ],\n",
    "        },\n",
    "    \"dpmi\": {\n",
    "        \"label\": \"PMI\",\n",
    "        \"pvalue_col\": \"lor_pvaluecor\",\n",
    "        \"se_and_ci_cols\": [[None, None], [\"lor_se\", [\"dpmi_lower\",\"dpmi_upper\"]]],\n",
    "        },\n",
    "    }"
   ]
  },
  {
   "cell_type": "code",
   "execution_count": null,
   "metadata": {},
   "outputs": [],
   "source": [
    "corpora_info = {\n",
    "    \"wiki2014\": {\"label\": \"Wikipedia\"},\n",
    "    \"subs\": {\"label\": \"OpenSubtitles\"},\n",
    "}"
   ]
  },
  {
   "cell_type": "code",
   "execution_count": null,
   "metadata": {},
   "outputs": [],
   "source": [
    "experiments_info = {\n",
    "    \"occupations-gender\": {\n",
    "        \"col_label\": r\"% of workers in occupation who are women\",\n",
    "        \"bias_label\": \"Female bias\",\n",
    "        \"point_size\": 35,\n",
    "        \"edgecolor\": \"black\",\n",
    "        \"error_bars\": True,\n",
    "    },\n",
    "    \"names-gender\": {\n",
    "        \"col_label\": r\"% of people with name who are women\",\n",
    "        \"bias_label\": \"Female bias\",\n",
    "        \"point_size\": 35,\n",
    "        \"edgecolor\": \"black\",\n",
    "        \"error_bars\": True,\n",
    "    },\n",
    "    \"glasgow-gender\": {\n",
    "        \"bias_label\": \"Female bias\",\n",
    "        \"col_label\": r\"Human judgement of gender association\",\n",
    "        \"point_size\": 2,\n",
    "        \"edgecolor\": None,\n",
    "        \"error_bars\": False,\n",
    "    },\n",
    "}"
   ]
  },
  {
   "cell_type": "code",
   "execution_count": null,
   "metadata": {},
   "outputs": [],
   "source": [
    "df_settings = df_final[[\"corpus\", \"experiment\"]].drop_duplicates()"
   ]
  },
  {
   "cell_type": "code",
   "execution_count": null,
   "metadata": {},
   "outputs": [],
   "source": [
    "plot_files = Path(\"results/plots\").glob(\"*.png\")\n",
    "plot_files = sorted(list(plot_files))"
   ]
  },
  {
   "cell_type": "code",
   "execution_count": null,
   "metadata": {},
   "outputs": [],
   "source": [
    "grid_info = {\n",
    "    \"experiments\": [\"names-gender\", \"occupations-gender\", \"glasgow-gender\"],\n",
    "    \"metrics\": [\"PMI\",\"GloVe\",\"SGNS\"],\n",
    "    \"metric_types\": [\"uw\", \"w\"],\n",
    "    \"corpora\": [\"wiki2014\"], #[\"subs\",\"wiki2014\"],\n",
    "}"
   ]
  },
  {
   "cell_type": "code",
   "execution_count": null,
   "metadata": {},
   "outputs": [],
   "source": [
    "def concat_tile(lista_2d: list):\n",
    "    return cv.vconcat([cv.hconcat(list_h) for list_h in lista_2d])"
   ]
  },
  {
   "cell_type": "markdown",
   "metadata": {},
   "source": [
    "### Experiments"
   ]
  },
  {
   "cell_type": "code",
   "execution_count": null,
   "metadata": {},
   "outputs": [],
   "source": [
    "# save PNGs\n",
    "dpi = 300\n",
    "width = 1500\n",
    "height = 1150\n",
    "plt.ioff()\n",
    "\n",
    "for _, (corpus, experiment) in df_settings.iterrows():\n",
    "    for metric, metric_info in metrics_info.items():\n",
    "        for se_col, ci_cols in metric_info[\"se_and_ci_cols\"]:\n",
    "            \n",
    "            experiment_info = experiments_info[experiment]\n",
    "            corpus_info = corpora_info[corpus]\n",
    "            metric_type = \"w\" if se_col else \"uw\"\n",
    "            xlabel = experiment_info['col_label']\n",
    "            ylabel = f\"{experiment_info['bias_label']} ({metric_info['label']})\"\n",
    "            corpus_name = corpus_info[\"label\"]\n",
    "            error_bars = experiment_info[\"error_bars\"]\n",
    "            point_size = experiment_info[\"point_size\"]\n",
    "            edgecolor = experiment_info[\"edgecolor\"]\n",
    "            ci_cols = ci_cols if error_bars else None\n",
    "            outfile = f\"results/plots/{corpus}_{experiment}_{metric_info['label']}_{metric_type}.png\"\n",
    "\n",
    "            df_ = df_final.query(\"experiment == @experiment & corpus == @corpus\")\n",
    "\n",
    "            fig_, ax_ = scatter_color_plt(\n",
    "                \"score\", metric, df_, weight_se_var=se_col, error_cols=ci_cols,\n",
    "                xlabel=xlabel, ylabel=ylabel, title=None, point_size=point_size,\n",
    "                edgecolor=edgecolor, print_pearson=False\n",
    "            )\n",
    "            fig_.set_size_inches(width/dpi, height/dpi)\n",
    "            plt.savefig(outfile, dpi=dpi, bbox_inches='tight')\n",
    "            plt.close(fig_)\n"
   ]
  },
  {
   "cell_type": "code",
   "execution_count": null,
   "metadata": {},
   "outputs": [],
   "source": [
    "plot_files_wefat = [f for f in plot_files if not f.stem.startswith(\"pvalues\")]\n",
    "plot_files_dict = {}\n",
    "for f in plot_files_wefat:\n",
    "    f_name = f.stem\n",
    "    plot_files_dict[f_name] = str(f)"
   ]
  },
  {
   "cell_type": "code",
   "execution_count": null,
   "metadata": {},
   "outputs": [],
   "source": [
    "img_lists = {}\n",
    "img_grids = {}\n",
    "for experiment in grid_info[\"experiments\"]:\n",
    "    img_lists[experiment] = []\n",
    "    for corpus in grid_info[\"corpora\"]:\n",
    "        for metric_type in grid_info[\"metric_types\"]:\n",
    "            img_row = []\n",
    "            for metric in grid_info[\"metrics\"]:\n",
    "                k = f\"{corpus}_{experiment}_{metric}_{metric_type}\"\n",
    "                f = plot_files_dict[k]\n",
    "                img_ = cv.imread(f)\n",
    "                img_ = cv.resize(img_, (1401, 1068))\n",
    "                img_row.append(img_)\n",
    "            img_lists[experiment].append(img_row)\n",
    "    img_grids[experiment] = concat_tile(img_lists[experiment])\n",
    "    cv.imwrite(f\"results/plots/grid_{experiment}.png\", img_grids[experiment])\n"
   ]
  },
  {
   "cell_type": "markdown",
   "metadata": {},
   "source": [
    "### Permutation p-values"
   ]
  },
  {
   "cell_type": "code",
   "execution_count": null,
   "metadata": {},
   "outputs": [],
   "source": [
    "# save PNGs\n",
    "dpi = 300\n",
    "width = 2100\n",
    "height = 1050\n",
    "plt.ioff()\n",
    "\n",
    "for _, (corpus, experiment) in df_settings.iterrows():\n",
    "    for metric, metric_info in metrics_info.items():\n",
    "\n",
    "        experiment_info = experiments_info[experiment]\n",
    "        corpus_info = corpora_info[corpus]\n",
    "        corpus_name = corpus_info[\"label\"]\n",
    "        point_size = experiment_info[\"point_size\"]\n",
    "        edgecolor = experiment_info[\"edgecolor\"]\n",
    "        pvalue_col = metric_info[\"pvalue_col\"]\n",
    "        xlabel = f\"{experiment_info['bias_label']} ({metric_info['label']})\"\n",
    "        ylabel = f\"{experiment_info['bias_label']} p-value ({metric_info['label']})\"\n",
    "        outfile = f\"results/plots/pvalues_{corpus}_{experiment}_{metric_info['label']}.png\"\n",
    "        \n",
    "        df_ = df_final.query(\"experiment == @experiment & corpus == @corpus\")\n",
    "\n",
    "        fig_, ax_ = scatter_plt(\n",
    "            metric, pvalue_col, df_, xlabel=xlabel, ylabel=ylabel, \n",
    "            title=None, point_size=point_size, edgecolor=edgecolor)\n",
    "        fig_.set_size_inches(width/dpi, height/dpi)\n",
    "        plt.savefig(outfile, dpi=dpi, bbox_inches='tight')\n",
    "        plt.close(fig_)"
   ]
  },
  {
   "cell_type": "code",
   "execution_count": null,
   "metadata": {},
   "outputs": [],
   "source": [
    "plot_files_pvalues = [f for f in plot_files if f.stem.startswith(\"pvalues\")]\n",
    "plot_files_dict = {}\n",
    "for f in plot_files_pvalues:\n",
    "    f_name = f.stem\n",
    "    plot_files_dict[f_name] = str(f)"
   ]
  },
  {
   "cell_type": "code",
   "execution_count": null,
   "metadata": {},
   "outputs": [],
   "source": [
    "img_list = []\n",
    "for experiment in grid_info[\"experiments\"]:\n",
    "    for corpus in grid_info[\"corpora\"]:\n",
    "        img_row = []\n",
    "        for metric in grid_info[\"metrics\"]:\n",
    "            k = f\"pvalues_{corpus}_{experiment}_{metric}\"\n",
    "            f = plot_files_dict[k]\n",
    "            img_ = cv.imread(f)\n",
    "            img_ = cv.resize(img_, (width, height))\n",
    "            img_row.append(img_)\n",
    "        img_list.append(img_row)\n",
    "\n",
    "img_grid = concat_tile(img_list)"
   ]
  },
  {
   "cell_type": "code",
   "execution_count": null,
   "metadata": {},
   "outputs": [],
   "source": [
    "cv.imwrite(f\"results/plots/grid_pvalues.png\", img_grid)"
   ]
  },
  {
   "cell_type": "code",
   "execution_count": null,
   "metadata": {},
   "outputs": [],
   "source": [
    "# example pvalues figure\n",
    "file_pmi = plot_files_dict[\"pvalues_wiki2014_names-gender_PMI\"]\n",
    "file_we = plot_files_dict[\"pvalues_wiki2014_names-gender_SGNS\"]\n",
    "img_pmi = cv.imread(file_pmi)\n",
    "img_we = cv.imread(file_we)\n",
    "img_pmi = cv.resize(img_pmi, (width, height))\n",
    "img_we =  cv.resize(img_we, (width, height))\n",
    "img_grid = cv.vconcat([img_we, img_pmi])\n",
    "\n",
    "cv.imwrite(f\"results/plots/grid_pvalues_wiki2014_names-gender.png\", img_grid)"
   ]
  },
  {
   "cell_type": "code",
   "execution_count": null,
   "metadata": {},
   "outputs": [],
   "source": [
    "pvalues_sgns = df_final.query(\n",
    "    \"experiment == 'names-gender' & corpus == 'wiki2014'\")[\"sgns_pvaluecor\"]\n",
    "sum(pvalues_sgns < .1)"
   ]
  },
  {
   "cell_type": "markdown",
   "metadata": {},
   "source": [
    "## Save results summary"
   ]
  },
  {
   "cell_type": "code",
   "execution_count": null,
   "metadata": {},
   "outputs": [],
   "source": [
    "cols_to_save = [\n",
    "    \"word\", \"corpus\", \"experiment\", \"bias\", \"score\",\n",
    "    \"dpmi\", \"lor_se\", \"dpmi_lower\", \"dpmi_upper\", \"lor_pvalue\", \"lor_pvaluecor\",\n",
    "    \"wefat_score_sgns\", \"se_sgns\", \"lower_sgns\", \"upper_sgns\", \"sgns_pvalue\", \"sgns_pvaluecor\",\n",
    "    \"wefat_score_glovewc\", \"se_glovewc\", \"lower_glovewc\", \"upper_glovewc\", \"glovewc_pvalue\", \"glovewc_pvaluecor\",\n",
    "]\n",
    "df_to_save = (\n",
    "    df_final[cols_to_save]\n",
    "    .rename(\n",
    "        columns={\"score\": \"external_score\", \"dpmi\": \"bias_pmi\",\n",
    "                 \"wefat_score_sgns\": \"bias_sgns\", \"wefat_score_glovewc\": \"bias_glovewc\"})\n",
    "    .sort_values([\"corpus\", \"experiment\", \"word\", ])\n",
    "    .reset_index(drop=True)\n",
    ")\n",
    "df_to_save.to_csv(\"results/experiments_results.csv\", index=False)"
   ]
  },
  {
   "cell_type": "code",
   "execution_count": null,
   "metadata": {},
   "outputs": [],
   "source": []
  }
 ],
 "metadata": {
  "file_extension": ".py",
  "interpreter": {
   "hash": "0edf4bb407f1ad9a1fca1a71d8507d7b22308309a176b50ebe6e3623242e1a9e"
  },
  "kernelspec": {
   "display_name": "Python 3.9.12 ('bias-pmi')",
   "language": "python",
   "name": "python3"
  },
  "language_info": {
   "codemirror_mode": {
    "name": "ipython",
    "version": 3
   },
   "file_extension": ".py",
   "mimetype": "text/x-python",
   "name": "python",
   "nbconvert_exporter": "python",
   "pygments_lexer": "ipython3",
   "version": "3.9.12"
  },
  "mimetype": "text/x-python",
  "name": "python",
  "npconvert_exporter": "python",
  "pygments_lexer": "ipython3",
  "version": 3
 },
 "nbformat": 4,
 "nbformat_minor": 2
}
